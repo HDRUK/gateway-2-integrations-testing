{
 "cells": [
  {
   "cell_type": "code",
   "execution_count": 1,
   "id": "fa7b9741",
   "metadata": {},
   "outputs": [],
   "source": [
    "import requests\n",
    "import json\n",
    "\n",
    "\n",
    "client_id = \"r9f9qDYkoRA2RwNu5Eni26pZhwxlFxinIosyfODL\"\n",
    "app_id = \"wdG4zPgkFbP0CYStjx8tCpa4ncCSBaORcX0E4l8Z\"\n",
    "\n",
    "api_path = \"https://api.dev.hdruk.cloud/api/v1\"\n",
    "\n",
    "\n",
    "headers = {\n",
    "    \"x-client-id\": client_id,\n",
    "    \"x-application-id\": app_id,\n",
    "    \"Content-Type\": \"application/json\",\n",
    "}\n",
    "\n",
    "metadata = {\"metadata\": json.load(open(\"example-hdruk212.json\"))}\n"
   ]
  },
  {
   "cell_type": "code",
   "execution_count": 2,
   "id": "d28497d4",
   "metadata": {},
   "outputs": [
    {
     "name": "stdout",
     "output_type": "stream",
     "text": [
      "{\n",
      "      \"message\": \"created\",\n",
      "      \"data\": 10,\n",
      "      \"version\": 12\n",
      "}\n"
     ]
    }
   ],
   "source": [
    "response = requests.post(\n",
    "    f\"{api_path}/integrations/datasets\", headers=headers, json=metadata\n",
    ")\n",
    "print(json.dumps(response.json(), indent=6))\n"
   ]
  },
  {
   "cell_type": "code",
   "execution_count": 3,
   "id": "8c59364c",
   "metadata": {},
   "outputs": [
    {
     "data": {
      "text/plain": [
       "201"
      ]
     },
     "execution_count": 3,
     "metadata": {},
     "output_type": "execute_result"
    }
   ],
   "source": [
    "response.status_code"
   ]
  },
  {
   "cell_type": "code",
   "execution_count": 4,
   "id": "aeeebe94",
   "metadata": {},
   "outputs": [
    {
     "data": {
      "text/plain": [
       "10"
      ]
     },
     "execution_count": 4,
     "metadata": {},
     "output_type": "execute_result"
    }
   ],
   "source": [
    "dataset_id = response.json()[\"data\"]\n",
    "dataset_id"
   ]
  },
  {
   "cell_type": "code",
   "execution_count": 9,
   "id": "f048faa2",
   "metadata": {
    "scrolled": false
   },
   "outputs": [
    {
     "name": "stdout",
     "output_type": "stream",
     "text": [
      "200\n"
     ]
    }
   ],
   "source": [
    "response = requests.get(\n",
    "    f\"{api_path}/integrations/datasets/{dataset_id}\", headers=headers\n",
    ")\n",
    "print (response.status_code)"
   ]
  },
  {
   "cell_type": "code",
   "execution_count": 10,
   "id": "887851fc",
   "metadata": {},
   "outputs": [
    {
     "name": "stdout",
     "output_type": "stream",
     "text": [
      "{\n",
      "      \"abstract\": \"Patient-level data set that captures information about people in contact with services commissioned as part of the adult Improving Access to Psychological Services (IAPT) programme.\",\n",
      "      \"contactPoint\": \"enquiries@nhsdigital.nhs.uk\",\n",
      "      \"keywords\": \"Depression,Anxiety,CBT,Counselling,Talking theraphy,Cognitive,National Core Study,NCS\",\n",
      "      \"controlledKeywords\": null,\n",
      "      \"datasetType\": \"Healthdata\",\n",
      "      \"description\": \"Collecting information about people in contact with adult psychological therapy services in England. The IAPT data set was developed with the IAPT programme as a patient level, output based, secondary uses data set which aims to deliver robust, comprehensive, nationally consistent and comparable information for patients accessing NHS-funded IAPT services in England. This national data set has been collected since April 2012 and is a mandatory submission for all NHS funded care, including care delivered by independent sector healthcare providers. Data collection on patients with depression and anxiety disorders that are offered psychological therapies, so that we can improve the delivery of care for these conditions.\\n\\nProviders of NHS-funded IAPT services are required to submit data to NHS Digital on a monthly basis.\\n\\nAs a secondary uses data set the IAPT data set re-uses clinical and operational data for purposes other than direct patient care. It defines the data items, definitions and associated value sets extracted or derived from local information systems and sent to NHS Digital for analysis purposes. Timescales for dissemination can be found under &#039;Our Service Levels&#039; at the following link: https://digital.nhs.uk/services/data-access-request-service-dars/data-access-request-service-dars-process\",\n",
      "      \"doiName\": null,\n",
      "      \"shortTitle\": \"Improving Access to Psychological Therapies Data Set\",\n",
      "      \"title\": \"Improving Access to Psychological Therapies Data Set\",\n",
      "      \"publisher\": {\n",
      "            \"gatewayId\": \"898f0f12-749c-4e2d-aa91-004533636c6b\",\n",
      "            \"name\": \"Dev Testing\"\n",
      "      },\n",
      "      \"populationSize\": 0,\n",
      "      \"datasetSubType\": null\n",
      "}\n"
     ]
    }
   ],
   "source": [
    "print(json.dumps(response.json()['data']['versions'][0]['metadata']['metadata']['summary'],indent=6))"
   ]
  },
  {
   "cell_type": "code",
   "execution_count": 11,
   "id": "8f232012",
   "metadata": {},
   "outputs": [
    {
     "data": {
      "text/plain": [
       "['3.0.0', '3.0.0']"
      ]
     },
     "execution_count": 11,
     "metadata": {},
     "output_type": "execute_result"
    }
   ],
   "source": [
    "data = response.json()[\"data\"]\n",
    "versions = data[\"versions\"]\n",
    "[v['metadata']['metadata']['required']['version'] for v in versions]"
   ]
  },
  {
   "cell_type": "code",
   "execution_count": 14,
   "id": "a2d3b278",
   "metadata": {},
   "outputs": [
    {
     "data": {
      "text/plain": [
       "[12, 12]"
      ]
     },
     "execution_count": 14,
     "metadata": {},
     "output_type": "execute_result"
    }
   ],
   "source": [
    "[v['id'] for v in data['versions']]"
   ]
  },
  {
   "cell_type": "code",
   "execution_count": 7,
   "id": "591b9b24",
   "metadata": {},
   "outputs": [
    {
     "name": "stdout",
     "output_type": "stream",
     "text": [
      "{\n",
      "      \"pathway\": null,\n",
      "      \"spatial\": \"United Kingdom,England\",\n",
      "      \"followup\": \"0 - 6 MONTHS\",\n",
      "      \"typicalAgeRange\": \"18-150\",\n",
      "      \"biologicalsamples\": [],\n",
      "      \"gender\": [],\n",
      "      \"psychological\": [],\n",
      "      \"physical\": [],\n",
      "      \"anthropometric\": [],\n",
      "      \"lifestyle\": [],\n",
      "      \"socioeconomic\": []\n",
      "}\n"
     ]
    }
   ],
   "source": [
    "response = requests.get(\n",
    "    f\"{api_path}/integrations/datasets/{dataset_id}?schema_model=HDRUK&schema_version=2.2.0\", headers=headers\n",
    ")\n",
    "print (json.dumps(response.json()['data']['coverage'],indent=6))"
   ]
  },
  {
   "cell_type": "code",
   "execution_count": null,
   "id": "a0874904",
   "metadata": {},
   "outputs": [],
   "source": [
    "response = requests.get(\n",
    "    f\"{api_path}/integrations/datasets/{dataset_id}?schema_model=HDRUK&schema_version=2.2.3\", headers=headers\n",
    ")\n",
    "print (json.dumps(response.json(),indent=6))"
   ]
  },
  {
   "cell_type": "code",
   "execution_count": null,
   "id": "9ae97f85",
   "metadata": {},
   "outputs": [],
   "source": [
    "temp = json.load(open(\"example-hdruk212.json\"))\n",
    "temp['version'] = '3.0.1'\n",
    "temp['summary']['title'] = 'UPDATED TITLE'\n",
    "\n",
    "newmetadata = {\"metadata\": temp}"
   ]
  },
  {
   "cell_type": "code",
   "execution_count": null,
   "id": "14be6979",
   "metadata": {},
   "outputs": [],
   "source": [
    "response = requests.put(\n",
    "    f\"{api_path}/integrations/datasets/{dataset_id}\", headers=headers, json=newmetadata\n",
    ")\n",
    "print(json.dumps(response.json(), indent=6))\n"
   ]
  },
  {
   "cell_type": "code",
   "execution_count": null,
   "id": "dfce3deb",
   "metadata": {},
   "outputs": [],
   "source": [
    "response = requests.get(\n",
    "    f\"{api_path}/integrations/datasets/{dataset_id}\", headers=headers\n",
    ")"
   ]
  },
  {
   "cell_type": "code",
   "execution_count": null,
   "id": "e75312a6",
   "metadata": {},
   "outputs": [],
   "source": [
    "data = response.json()[\"data\"]\n",
    "versions = data[\"versions\"]\n",
    "\n",
    "\n",
    "[v['metadata']['metadata']['required']['version'] for v in versions]"
   ]
  },
  {
   "cell_type": "code",
   "execution_count": null,
   "id": "b8544866",
   "metadata": {},
   "outputs": [],
   "source": [
    "response = requests.delete(\n",
    "    f\"{api_path}/integrations/datasets/{dataset_id}\", headers=headers\n",
    ")\n",
    "  "
   ]
  }
 ],
 "metadata": {
  "kernelspec": {
   "display_name": "Python 3 (ipykernel)",
   "language": "python",
   "name": "python3"
  },
  "language_info": {
   "codemirror_mode": {
    "name": "ipython",
    "version": 3
   },
   "file_extension": ".py",
   "mimetype": "text/x-python",
   "name": "python",
   "nbconvert_exporter": "python",
   "pygments_lexer": "ipython3",
   "version": "3.9.18"
  }
 },
 "nbformat": 4,
 "nbformat_minor": 5
}
